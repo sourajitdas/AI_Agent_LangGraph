{
 "cells": [
  {
   "cell_type": "code",
   "id": "initial_id",
   "metadata": {
    "collapsed": true,
    "ExecuteTime": {
     "end_time": "2025-02-10T20:04:21.362947Z",
     "start_time": "2025-02-10T20:04:21.359866Z"
    }
   },
   "source": "# based on https://til.simonwillison.net/llms/python-react-pattern",
   "outputs": [],
   "execution_count": 11
  },
  {
   "metadata": {
    "ExecuteTime": {
     "end_time": "2025-02-10T20:04:21.371760Z",
     "start_time": "2025-02-10T20:04:21.368581Z"
    }
   },
   "cell_type": "code",
   "source": [
    "import openai\n",
    "import re\n",
    "import httpx\n",
    "import os\n",
    "from dotenv import load_dotenv\n",
    "# Load the environment variables from the .env file\n",
    "_ = load_dotenv()\n",
    "from openai import OpenAI"
   ],
   "id": "5565c90e743de2c1",
   "outputs": [],
   "execution_count": 12
  },
  {
   "metadata": {
    "ExecuteTime": {
     "end_time": "2025-02-10T20:04:21.420457Z",
     "start_time": "2025-02-10T20:04:21.418022Z"
    }
   },
   "cell_type": "code",
   "source": "api_key = os.environ.get(\"OPENAI_API_KEY\")",
   "id": "5019f44b4edfef0c",
   "outputs": [],
   "execution_count": 13
  },
  {
   "metadata": {
    "ExecuteTime": {
     "end_time": "2025-02-10T20:04:31.105155Z",
     "start_time": "2025-02-10T20:04:31.094123Z"
    }
   },
   "cell_type": "code",
   "source": "client = OpenAI(api_key=api_key)",
   "id": "8edf3d3ec6932ab3",
   "outputs": [],
   "execution_count": 15
  },
  {
   "metadata": {
    "ExecuteTime": {
     "end_time": "2025-02-10T20:04:21.514323Z",
     "start_time": "2025-02-10T20:04:21.512426Z"
    }
   },
   "cell_type": "code",
   "source": "",
   "id": "cf4d271c9145be4f",
   "outputs": [],
   "execution_count": null
  }
 ],
 "metadata": {
  "kernelspec": {
   "display_name": "Python 3",
   "language": "python",
   "name": "python3"
  },
  "language_info": {
   "codemirror_mode": {
    "name": "ipython",
    "version": 2
   },
   "file_extension": ".py",
   "mimetype": "text/x-python",
   "name": "python",
   "nbconvert_exporter": "python",
   "pygments_lexer": "ipython2",
   "version": "2.7.6"
  }
 },
 "nbformat": 4,
 "nbformat_minor": 5
}
